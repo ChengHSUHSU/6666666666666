{
 "cells": [
  {
   "cell_type": "code",
   "execution_count": null,
   "id": "62217522-be22-4707-9037-a17340323a20",
   "metadata": {},
   "outputs": [],
   "source": []
  },
  {
   "cell_type": "code",
   "execution_count": null,
   "id": "1e520b32-bbb5-4830-96e1-dae87f362cfa",
   "metadata": {},
   "outputs": [],
   "source": []
  },
  {
   "cell_type": "code",
   "execution_count": null,
   "id": "1d75b477-73a8-4751-b4b4-0f60e58e83ca",
   "metadata": {},
   "outputs": [],
   "source": []
  },
  {
   "cell_type": "code",
   "execution_count": null,
   "id": "0a2fcb80-7a5d-4398-96c8-9e0e2f2a2784",
   "metadata": {},
   "outputs": [],
   "source": [
    "'''\n",
    "1. data size ex. MB, GB\n",
    "2. query_num, pd_num | train, test\n",
    "3. overlap_query_num\n",
    "4. In overlap_query, overlap_product_rate\n",
    "'''"
   ]
  },
  {
   "cell_type": "code",
   "execution_count": null,
   "id": "57e2e47e-03ba-4c67-bb92-fbbd2530c564",
   "metadata": {},
   "outputs": [],
   "source": []
  },
  {
   "cell_type": "code",
   "execution_count": null,
   "id": "185e0962-2de4-4001-b78a-c2068d73ae69",
   "metadata": {},
   "outputs": [],
   "source": []
  },
  {
   "cell_type": "code",
   "execution_count": 3,
   "id": "c04644b5-d9cf-4193-8b8c-0bc3985b1321",
   "metadata": {},
   "outputs": [
    {
     "name": "stdout",
     "output_type": "stream",
     "text": [
      "41M\ttask_1_query-product_ranking/train-v0.2.csv\n"
     ]
    }
   ],
   "source": [
    "# task1 - train_data\n",
    "!du -h task_1_query-product_ranking/train-v0.2.csv"
   ]
  },
  {
   "cell_type": "code",
   "execution_count": 4,
   "id": "0a7fc44b-48e9-4312-8dcd-6ddf499143d3",
   "metadata": {},
   "outputs": [
    {
     "name": "stdout",
     "output_type": "stream",
     "text": [
      "1010M\ttask_1_query-product_ranking/product_catalogue-v0.2.csv\n"
     ]
    }
   ],
   "source": [
    "# task1 - product_data\n",
    "!du -h task_1_query-product_ranking/product_catalogue-v0.2.csv"
   ]
  },
  {
   "cell_type": "code",
   "execution_count": 1,
   "id": "9ea9961f-e22e-4267-82cd-4def6f08fb15",
   "metadata": {},
   "outputs": [
    {
     "name": "stdout",
     "output_type": "stream",
     "text": [
      "92M\ttask_2_multiclass_product_classification/train-v0.2.csv\n"
     ]
    }
   ],
   "source": [
    "# task2 - train_data\n",
    "!du -h task_2_multiclass_product_classification/train-v0.2.csv"
   ]
  },
  {
   "cell_type": "code",
   "execution_count": 2,
   "id": "119f8803-2d10-448f-b6b1-8958ad818a49",
   "metadata": {},
   "outputs": [
    {
     "name": "stdout",
     "output_type": "stream",
     "text": [
      "2.0G\ttask_2_multiclass_product_classification/product_catalogue-v0.2.csv\n"
     ]
    }
   ],
   "source": [
    "# task2 - product_data\n",
    "!du -h task_2_multiclass_product_classification/product_catalogue-v0.2.csv"
   ]
  },
  {
   "cell_type": "code",
   "execution_count": null,
   "id": "7f245fbf-d0f3-4698-ae23-7cc515c261bb",
   "metadata": {},
   "outputs": [],
   "source": []
  },
  {
   "cell_type": "code",
   "execution_count": 1,
   "id": "6dc846e7-3b00-4050-b013-68739fe6bc11",
   "metadata": {},
   "outputs": [],
   "source": [
    "import pandas as pd\n",
    "from tqdm import tqdm"
   ]
  },
  {
   "cell_type": "code",
   "execution_count": 2,
   "id": "f9581e65-7dde-49de-aa95-cca763c5e6a1",
   "metadata": {},
   "outputs": [],
   "source": [
    "# task1 path\n",
    "task1_path = 'task_1_query-product_ranking/'\n",
    "task1_train_path = task1_path + 'train-v0.2.csv'\n",
    "task1_test_path = task1_path + 'test_public-v0.2.csv'\n",
    "task1_product_path = task1_path + 'product_catalogue-v0.2.csv'\n",
    "# task2 path\n",
    "task2_path = 'task_2_multiclass_product_classification/'\n",
    "task2_train_path = task2_path + 'train-v0.2.csv'\n",
    "task2_product_path = task2_path + 'product_catalogue-v0.2.csv'"
   ]
  },
  {
   "cell_type": "code",
   "execution_count": 3,
   "id": "d1e78601-1291-46e6-9fae-63f4c49a304b",
   "metadata": {},
   "outputs": [],
   "source": [
    "# task1\n",
    "task1_train_dat = pd.read_csv(task1_train_path)\n",
    "task1_test_dat = pd.read_csv(task1_test_path)\n",
    "task1_product_dat = pd.read_csv(task1_product_path)\n",
    "# task2\n",
    "task2_train_dat = pd.read_csv(task2_train_path)\n",
    "task2_product_dat = pd.read_csv(task2_product_path)"
   ]
  },
  {
   "cell_type": "code",
   "execution_count": 4,
   "id": "f36d5729-335f-49d4-b0c7-ad3f2b7b3493",
   "metadata": {},
   "outputs": [],
   "source": [
    "# imputattion\n",
    "task1_train_dat = task1_train_dat.fillna('Empty')\n",
    "task1_test_dat = task1_test_dat.fillna('Empty')\n",
    "task1_product_dat = task1_product_dat.fillna('Empty')\n",
    "task2_train_dat = task2_train_dat.fillna('Empty')\n",
    "task2_product_dat = task2_product_dat.fillna('Empty')"
   ]
  },
  {
   "cell_type": "code",
   "execution_count": 8,
   "id": "91774b6e-eb57-4e61-b4e1-05025b0cecb0",
   "metadata": {},
   "outputs": [
    {
     "name": "stderr",
     "output_type": "stream",
     "text": [
      "100%|██████████| 883868/883868 [00:00<00:00, 2797215.38it/s]\n",
      "100%|██████████| 781738/781738 [00:00<00:00, 2802881.16it/s]\n",
      "100%|██████████| 167799/167799 [00:00<00:00, 2394757.32it/s]\n",
      "100%|██████████| 1815216/1815216 [00:00<00:00, 3047053.00it/s]\n",
      "100%|██████████| 1834744/1834744 [00:00<00:00, 2908560.09it/s]\n"
     ]
    }
   ],
   "source": [
    "# ATTACH LACLE TAG\n",
    "task1_product_dat = build_product_idx(task1_product_dat, locale_name='product_locale')\n",
    "task1_train_dat = build_product_idx(task1_train_dat, locale_name='query_locale')\n",
    "task1_test_dat = build_product_idx(task1_test_dat, locale_name='query_locale')\n",
    "task2_product_dat = build_product_idx(task2_product_dat, locale_name='product_locale')\n",
    "task2_train_dat = build_product_idx(task2_train_dat, locale_name='query_locale')"
   ]
  },
  {
   "cell_type": "code",
   "execution_count": 9,
   "id": "1de7dd5d-c300-4afd-a0c6-e50673909260",
   "metadata": {},
   "outputs": [
    {
     "name": "stderr",
     "output_type": "stream",
     "text": [
      "100%|██████████| 781738/781738 [00:01<00:00, 631974.39it/s]\n",
      "100%|██████████| 167799/167799 [00:00<00:00, 1174554.36it/s]\n",
      "100%|██████████| 1834744/1834744 [00:03<00:00, 597812.92it/s]\n"
     ]
    }
   ],
   "source": [
    "# build query2data\n",
    "task1_query2data = build_query2data(target_dat=task1_train_dat, target_query_locale=['us', 'es', 'jp'])\n",
    "task1_query2data_test = build_query2data(target_dat=task1_test_dat, target_query_locale=['us', 'es', 'jp'])\n",
    "task2_query2data = build_query2data(target_dat=task2_train_dat, target_query_locale=['us', 'es', 'jp'])"
   ]
  },
  {
   "cell_type": "code",
   "execution_count": 10,
   "id": "c47419a5-8d08-4993-89d6-67e62b048fc1",
   "metadata": {},
   "outputs": [
    {
     "name": "stderr",
     "output_type": "stream",
     "text": [
      "100%|██████████| 883868/883868 [00:06<00:00, 143389.16it/s]\n",
      "100%|██████████| 1815216/1815216 [00:12<00:00, 144402.14it/s]\n"
     ]
    }
   ],
   "source": [
    "# build product2data\n",
    "task1_pd2data = build_pd2data(given_product_dat=task1_product_dat)\n",
    "task2_pd2data = build_pd2data(given_product_dat=task2_product_dat)"
   ]
  },
  {
   "cell_type": "code",
   "execution_count": 14,
   "id": "8ba4092d-3d1c-4faa-a750-8efda58ef8bd",
   "metadata": {},
   "outputs": [
    {
     "name": "stdout",
     "output_type": "stream",
     "text": [
      "task1- query_num :  33777\n",
      "task1- query_num_test :  7245\n",
      "task2- query_num :  91207\n",
      "task1- product_num :  883868\n",
      "task2- product_num :  1815216\n"
     ]
    }
   ],
   "source": [
    "# query_num, proudct_num\n",
    "print('task1- query_num : ', len(task1_query2data.keys()))\n",
    "print('task1- query_num_test : ', len(task1_query2data_test.keys()))\n",
    "print('task2- query_num : ', len(task2_query2data.keys()))\n",
    "print('task1- product_num : ', len(task1_pd2data.keys()))\n",
    "print('task2- product_num : ', len(task2_pd2data.keys()))"
   ]
  },
  {
   "cell_type": "code",
   "execution_count": 11,
   "id": "52e50206-1a7d-407c-b10f-d8d836b81759",
   "metadata": {},
   "outputs": [],
   "source": [
    "# overlap_query_num (train, test)\n",
    "overlap_train_query_set, overlap_test_query_set = set(), set()\n",
    "for query in list(task1_query2data.keys()):\n",
    "    if query in task2_query2data:\n",
    "        overlap_train_query_set.add(query)\n",
    "for query in list(task1_query2data_test.keys()):\n",
    "    if query in task2_query2data:\n",
    "        overlap_test_query_set.add(query)\n",
    "non_overlap_query_task2 = set(task2_query2data.keys()) - overlap_train_query_set- overlap_test_query_set"
   ]
  },
  {
   "cell_type": "code",
   "execution_count": 13,
   "id": "3f276de7-e2af-4945-8054-71c37179f2ea",
   "metadata": {},
   "outputs": [
    {
     "name": "stdout",
     "output_type": "stream",
     "text": [
      "overlap_train_query num :  23693\n",
      "overlap_test_query_set num :  5119\n",
      "non_overlap_query_task2 num :  62401\n"
     ]
    }
   ],
   "source": [
    "print('overlap_train_query num : ', len(overlap_train_query_set))\n",
    "print('overlap_test_query_set num : ', len(overlap_test_query_set))\n",
    "print('non_overlap_query_task2 num : ', len(non_overlap_query_task2))"
   ]
  },
  {
   "cell_type": "code",
   "execution_count": 15,
   "id": "742b208f-700b-4da1-a27d-379707b7ad0a",
   "metadata": {},
   "outputs": [],
   "source": [
    "overlap_num_list = []\n",
    "for query in list(overlap_train_query_set):\n",
    "    task1_pd_list = task1_query2data[query]['all']\n",
    "    task1_pd_name = [task1_pd2data[pdi]['product_title'] for pdi in task1_pd_list]\n",
    "    task2_pd_list = task2_query2data[query]['all']\n",
    "    task2_pd_name = [task2_pd2data[pdi]['product_title'] for pdi in task2_pd_list]    \n",
    "    overlap_num = len(set(task1_pd_name) & set(task2_pd_name)) / len(task1_pd_name)\n",
    "    overlap_num_list.append(overlap_num)"
   ]
  },
  {
   "cell_type": "code",
   "execution_count": 16,
   "id": "20c8edbb-3ea0-4f21-ba06-b83802ed15ac",
   "metadata": {},
   "outputs": [
    {
     "data": {
      "text/plain": [
       "{'whiskers': [<matplotlib.lines.Line2D at 0x7fb2109d5c18>,\n",
       "  <matplotlib.lines.Line2D at 0x7fb2109d5eb8>],\n",
       " 'caps': [<matplotlib.lines.Line2D at 0x7fb2104a8208>,\n",
       "  <matplotlib.lines.Line2D at 0x7fb2104a84e0>],\n",
       " 'boxes': [<matplotlib.lines.Line2D at 0x7fb2109c8e10>],\n",
       " 'medians': [<matplotlib.lines.Line2D at 0x7fb2104a87b8>],\n",
       " 'fliers': [<matplotlib.lines.Line2D at 0x7fb2104a8a90>],\n",
       " 'means': []}"
      ]
     },
     "execution_count": 16,
     "metadata": {},
     "output_type": "execute_result"
    },
    {
     "data": {
      "image/png": "[encoded data removed]",
      "text/plain": [
       "<Figure size 432x288 with 1 Axes>"
      ]
     },
     "metadata": {
      "needs_background": "light"
     },
     "output_type": "display_data"
    }
   ],
   "source": [
    "import matplotlib.pyplot as plt\n",
    "plt.boxplot(overlap_num_list)"
   ]
  },
  {
   "cell_type": "code",
   "execution_count": 17,
   "id": "99045b7e-dbe2-48ba-b94d-abdbc2727d50",
   "metadata": {},
   "outputs": [
    {
     "data": {
      "text/plain": [
       "23693"
      ]
     },
     "execution_count": 17,
     "metadata": {},
     "output_type": "execute_result"
    }
   ],
   "source": [
    "sorted(overlap_num_list)"
   ]
  },
  {
   "cell_type": "code",
   "execution_count": 19,
   "id": "cdb3711a-31c9-4898-93f1-e6b2968837de",
   "metadata": {},
   "outputs": [],
   "source": [
    "overlap_num_list = sorted(overlap_num_list, reverse=True)"
   ]
  },
  {
   "cell_type": "code",
   "execution_count": 31,
   "id": "90152e6c-cd67-413b-afed-1245e369c6e4",
   "metadata": {},
   "outputs": [
    {
     "data": {
      "text/plain": [
       "0.825"
      ]
     },
     "execution_count": 31,
     "metadata": {},
     "output_type": "execute_result"
    }
   ],
   "source": [
    "overlap_num_list[23500]"
   ]
  },
  {
   "cell_type": "code",
   "execution_count": null,
   "id": "931f8867-a972-4163-9e29-2ad5abce16cb",
   "metadata": {},
   "outputs": [],
   "source": []
  },
  {
   "cell_type": "code",
   "execution_count": null,
   "id": "3c3f7e46-b198-44d8-942e-971422c85627",
   "metadata": {},
   "outputs": [],
   "source": [
    "task2_product_dat"
   ]
  },
  {
   "cell_type": "code",
   "execution_count": null,
   "id": "5785734a-5b6e-4de9-b54f-43e5d286241e",
   "metadata": {},
   "outputs": [],
   "source": [
    "task1_product_dat"
   ]
  },
  {
   "cell_type": "code",
   "execution_count": 32,
   "id": "b2078963-e503-4a7f-90f7-e703baa54c6a",
   "metadata": {},
   "outputs": [
    {
     "data": {
      "text/html": [
       "<div>\n",
       "<style scoped>\n",
       "    .dataframe tbody tr th:only-of-type {\n",
       "        vertical-align: middle;\n",
       "    }\n",
       "\n",
       "    .dataframe tbody tr th {\n",
       "        vertical-align: top;\n",
       "    }\n",
       "\n",
       "    .dataframe thead th {\n",
       "        text-align: right;\n",
       "    }\n",
       "</style>\n",
       "<table border=\"1\" class=\"dataframe\">\n",
       "  <thead>\n",
       "    <tr style=\"text-align: right;\">\n",
       "      <th></th>\n",
       "      <th>product_id</th>\n",
       "      <th>product_title</th>\n",
       "      <th>product_description</th>\n",
       "      <th>product_bullet_point</th>\n",
       "      <th>product_brand</th>\n",
       "      <th>product_color_name</th>\n",
       "      <th>product_locale</th>\n",
       "      <th>product_new_id</th>\n",
       "    </tr>\n",
       "  </thead>\n",
       "  <tbody>\n",
       "    <tr>\n",
       "      <th>0</th>\n",
       "      <td>B079VKKJN7</td>\n",
       "      <td>11 Degrees de los Hombres Playera con Logo, Ne...</td>\n",
       "      <td>Esta playera con el logo de la marca Carrier d...</td>\n",
       "      <td>11 Degrees Negro Playera con logo\\nA estrenar ...</td>\n",
       "      <td>11 Degrees</td>\n",
       "      <td>Negro</td>\n",
       "      <td>es</td>\n",
       "      <td>B079VKKJN7@es</td>\n",
       "    </tr>\n",
       "    <tr>\n",
       "      <th>1</th>\n",
       "      <td>B079Y9VRKS</td>\n",
       "      <td>Camiseta Eleven Degrees Core TS White (M)</td>\n",
       "      <td>Empty</td>\n",
       "      <td>Empty</td>\n",
       "      <td>11 Degrees</td>\n",
       "      <td>Blanco</td>\n",
       "      <td>es</td>\n",
       "      <td>B079Y9VRKS@es</td>\n",
       "    </tr>\n",
       "    <tr>\n",
       "      <th>2</th>\n",
       "      <td>B07DP4LM9H</td>\n",
       "      <td>11 Degrees de los Hombres Core Pull Over Hoodi...</td>\n",
       "      <td>La sudadera con capucha Core Pull Over de 11 G...</td>\n",
       "      <td>11 Degrees Azul Core Pull Over Hoodie\\nA estre...</td>\n",
       "      <td>11 Degrees</td>\n",
       "      <td>Azul</td>\n",
       "      <td>es</td>\n",
       "      <td>B07DP4LM9H@es</td>\n",
       "    </tr>\n",
       "    <tr>\n",
       "      <th>3</th>\n",
       "      <td>B07G37B9HP</td>\n",
       "      <td>11 Degrees Poli Panel Track Pant XL Black</td>\n",
       "      <td>Empty</td>\n",
       "      <td>Empty</td>\n",
       "      <td>11 Degrees</td>\n",
       "      <td>Empty</td>\n",
       "      <td>es</td>\n",
       "      <td>B07G37B9HP@es</td>\n",
       "    </tr>\n",
       "    <tr>\n",
       "      <th>4</th>\n",
       "      <td>B07LCTGDHY</td>\n",
       "      <td>11 Degrees Gorra Trucker Negro OSFA (Talla úni...</td>\n",
       "      <td>Empty</td>\n",
       "      <td>Empty</td>\n",
       "      <td>11 Degrees</td>\n",
       "      <td>Negro (</td>\n",
       "      <td>es</td>\n",
       "      <td>B07LCTGDHY@es</td>\n",
       "    </tr>\n",
       "  </tbody>\n",
       "</table>\n",
       "</div>"
      ],
      "text/plain": [
       "   product_id                                      product_title  \\\n",
       "0  B079VKKJN7  11 Degrees de los Hombres Playera con Logo, Ne...   \n",
       "1  B079Y9VRKS          Camiseta Eleven Degrees Core TS White (M)   \n",
       "2  B07DP4LM9H  11 Degrees de los Hombres Core Pull Over Hoodi...   \n",
       "3  B07G37B9HP          11 Degrees Poli Panel Track Pant XL Black   \n",
       "4  B07LCTGDHY  11 Degrees Gorra Trucker Negro OSFA (Talla úni...   \n",
       "\n",
       "                                 product_description  \\\n",
       "0  Esta playera con el logo de la marca Carrier d...   \n",
       "1                                              Empty   \n",
       "2  La sudadera con capucha Core Pull Over de 11 G...   \n",
       "3                                              Empty   \n",
       "4                                              Empty   \n",
       "\n",
       "                                product_bullet_point product_brand  \\\n",
       "0  11 Degrees Negro Playera con logo\\nA estrenar ...    11 Degrees   \n",
       "1                                              Empty    11 Degrees   \n",
       "2  11 Degrees Azul Core Pull Over Hoodie\\nA estre...    11 Degrees   \n",
       "3                                              Empty    11 Degrees   \n",
       "4                                              Empty    11 Degrees   \n",
       "\n",
       "  product_color_name product_locale product_new_id  \n",
       "0              Negro             es  B079VKKJN7@es  \n",
       "1             Blanco             es  B079Y9VRKS@es  \n",
       "2               Azul             es  B07DP4LM9H@es  \n",
       "3              Empty             es  B07G37B9HP@es  \n",
       "4            Negro (             es  B07LCTGDHY@es  "
      ]
     },
     "execution_count": 32,
     "metadata": {},
     "output_type": "execute_result"
    }
   ],
   "source": [
    "task2_product_dat.head()"
   ]
  },
  {
   "cell_type": "code",
   "execution_count": 33,
   "id": "0ddb9ef1-8b9b-46e2-8de7-dbaa11e80977",
   "metadata": {},
   "outputs": [
    {
     "data": {
      "text/html": [
       "<div>\n",
       "<style scoped>\n",
       "    .dataframe tbody tr th:only-of-type {\n",
       "        vertical-align: middle;\n",
       "    }\n",
       "\n",
       "    .dataframe tbody tr th {\n",
       "        vertical-align: top;\n",
       "    }\n",
       "\n",
       "    .dataframe thead th {\n",
       "        text-align: right;\n",
       "    }\n",
       "</style>\n",
       "<table border=\"1\" class=\"dataframe\">\n",
       "  <thead>\n",
       "    <tr style=\"text-align: right;\">\n",
       "      <th></th>\n",
       "      <th>product_id</th>\n",
       "      <th>product_title</th>\n",
       "      <th>product_description</th>\n",
       "      <th>product_bullet_point</th>\n",
       "      <th>product_brand</th>\n",
       "      <th>product_color_name</th>\n",
       "      <th>product_locale</th>\n",
       "      <th>product_new_id</th>\n",
       "    </tr>\n",
       "  </thead>\n",
       "  <tbody>\n",
       "    <tr>\n",
       "      <th>0</th>\n",
       "      <td>B0188A3QRM</td>\n",
       "      <td>Amazon Basics Woodcased #2 Pencils, Unsharpene...</td>\n",
       "      <td>Empty</td>\n",
       "      <td>144 woodcase #2 HB pencils made from high-qual...</td>\n",
       "      <td>Amazon Basics</td>\n",
       "      <td>Yellow</td>\n",
       "      <td>us</td>\n",
       "      <td>B0188A3QRM@us</td>\n",
       "    </tr>\n",
       "    <tr>\n",
       "      <th>1</th>\n",
       "      <td>B075VXJ9VG</td>\n",
       "      <td>BAZIC Pencil #2 HB Pencils, Latex Free Eraser,...</td>\n",
       "      <td>&lt;p&gt;&lt;strong&gt;BACK TO BAZIC&lt;/strong&gt;&lt;/p&gt;&lt;p&gt;Our go...</td>\n",
       "      <td>&amp;#11088; UN-SHARPENED #2 PREMIUM PENCILS. Each...</td>\n",
       "      <td>BAZIC Products</td>\n",
       "      <td>12-count</td>\n",
       "      <td>us</td>\n",
       "      <td>B075VXJ9VG@us</td>\n",
       "    </tr>\n",
       "    <tr>\n",
       "      <th>2</th>\n",
       "      <td>B07G7F6JZ6</td>\n",
       "      <td>Emraw Pre Sharpened Round Primary Size No 2 Ju...</td>\n",
       "      <td>&lt;p&gt;&lt;b&gt;Emraw Pre-Sharpened #2 HB Wood Pencils -...</td>\n",
       "      <td>✓ PACK OF 8 NUMBER 2 PRESHARPENED BEGINNERS PE...</td>\n",
       "      <td>Emraw</td>\n",
       "      <td>Yellow</td>\n",
       "      <td>us</td>\n",
       "      <td>B07G7F6JZ6@us</td>\n",
       "    </tr>\n",
       "    <tr>\n",
       "      <th>3</th>\n",
       "      <td>B07JZJLHCF</td>\n",
       "      <td>Emraw Pre Sharpened Triangular Primary Size No...</td>\n",
       "      <td>&lt;p&gt;&lt;b&gt;Emraw Pre-Sharpened #2 HB Wood Pencils -...</td>\n",
       "      <td>✓ PACK OF 6 NUMBER 2 PRESHARPENED BEGINNERS PE...</td>\n",
       "      <td>Emraw</td>\n",
       "      <td>Yellow</td>\n",
       "      <td>us</td>\n",
       "      <td>B07JZJLHCF@us</td>\n",
       "    </tr>\n",
       "    <tr>\n",
       "      <th>4</th>\n",
       "      <td>B07MGKC3DD</td>\n",
       "      <td>BIC Evolution Cased Pencil, #2 Lead, Gray Barr...</td>\n",
       "      <td>Empty</td>\n",
       "      <td>Premium #2 HB lead pencils with break-resistan...</td>\n",
       "      <td>Design House</td>\n",
       "      <td>Gray</td>\n",
       "      <td>us</td>\n",
       "      <td>B07MGKC3DD@us</td>\n",
       "    </tr>\n",
       "  </tbody>\n",
       "</table>\n",
       "</div>"
      ],
      "text/plain": [
       "   product_id                                      product_title  \\\n",
       "0  B0188A3QRM  Amazon Basics Woodcased #2 Pencils, Unsharpene...   \n",
       "1  B075VXJ9VG  BAZIC Pencil #2 HB Pencils, Latex Free Eraser,...   \n",
       "2  B07G7F6JZ6  Emraw Pre Sharpened Round Primary Size No 2 Ju...   \n",
       "3  B07JZJLHCF  Emraw Pre Sharpened Triangular Primary Size No...   \n",
       "4  B07MGKC3DD  BIC Evolution Cased Pencil, #2 Lead, Gray Barr...   \n",
       "\n",
       "                                 product_description  \\\n",
       "0                                              Empty   \n",
       "1  <p><strong>BACK TO BAZIC</strong></p><p>Our go...   \n",
       "2  <p><b>Emraw Pre-Sharpened #2 HB Wood Pencils -...   \n",
       "3  <p><b>Emraw Pre-Sharpened #2 HB Wood Pencils -...   \n",
       "4                                              Empty   \n",
       "\n",
       "                                product_bullet_point   product_brand  \\\n",
       "0  144 woodcase #2 HB pencils made from high-qual...   Amazon Basics   \n",
       "1  &#11088; UN-SHARPENED #2 PREMIUM PENCILS. Each...  BAZIC Products   \n",
       "2  ✓ PACK OF 8 NUMBER 2 PRESHARPENED BEGINNERS PE...           Emraw   \n",
       "3  ✓ PACK OF 6 NUMBER 2 PRESHARPENED BEGINNERS PE...           Emraw   \n",
       "4  Premium #2 HB lead pencils with break-resistan...    Design House   \n",
       "\n",
       "  product_color_name product_locale product_new_id  \n",
       "0             Yellow             us  B0188A3QRM@us  \n",
       "1           12-count             us  B075VXJ9VG@us  \n",
       "2             Yellow             us  B07G7F6JZ6@us  \n",
       "3             Yellow             us  B07JZJLHCF@us  \n",
       "4               Gray             us  B07MGKC3DD@us  "
      ]
     },
     "execution_count": 33,
     "metadata": {},
     "output_type": "execute_result"
    }
   ],
   "source": [
    "task1_product_dat.head()"
   ]
  },
  {
   "cell_type": "code",
   "execution_count": 44,
   "id": "c6ffe6b0-8450-4593-86c2-620c320b988f",
   "metadata": {},
   "outputs": [],
   "source": [
    "neg, pos = 0,0"
   ]
  },
  {
   "cell_type": "code",
   "execution_count": 45,
   "id": "ebfdda07-3e83-4943-9b4c-46a652613f19",
   "metadata": {},
   "outputs": [],
   "source": [
    "t2_pd_set = set(task2_product_dat['product_new_id'])"
   ]
  },
  {
   "cell_type": "code",
   "execution_count": 51,
   "id": "ba9ab7db-052a-423f-80c2-b1850d3addbf",
   "metadata": {},
   "outputs": [],
   "source": [
    "error_data_t1 = list()\n",
    "error_data_t2 = list()\n",
    "t1_pd_list = list(set(task1_product_dat['product_new_id']))\n",
    "for pdi in t1_pd_list:\n",
    "    if pdi in t2_pd_set:\n",
    "        t1_product_title = task1_pd2data[pdi]['product_title']\n",
    "        t2_product_title = task2_pd2data[pdi]['product_title']\n",
    "        if t1_product_title != t2_product_title:\n",
    "            neg +=1\n",
    "            error_data_t1.append(t1_product_title)\n",
    "            error_data_t2.append(t2_product_title)\n",
    "        else:\n",
    "            pos +=1"
   ]
  },
  {
   "cell_type": "code",
   "execution_count": 63,
   "id": "bd0b3b13-8e00-41c2-9c53-83443e06f3b6",
   "metadata": {},
   "outputs": [
    {
     "data": {
      "text/plain": [
       "'FelixKing オフィスチェア 椅子 デスクチェア メッシュチェア 事務椅子 昇降機能付き 調節可能アームレスト 腰サポー 通気性 厚手 座面 360度回転 パソコンチェア 男女兼用 (黒)'"
      ]
     },
     "execution_count": 63,
     "metadata": {},
     "output_type": "execute_result"
    }
   ],
   "source": [
    "error_data_t1[2000]"
   ]
  },
  {
   "cell_type": "code",
   "execution_count": 62,
   "id": "832dccd3-933b-492e-9beb-1a39c2324331",
   "metadata": {},
   "outputs": [
    {
     "data": {
      "text/plain": [
       "'FelixKing オフィスチェア 人間工学椅子 テレワーク 疲れない デスクチェア おしゃれ パソコンチェア 昇降機能付き 跳ね上げ式アームレスト ランバーサポート 通気性 厚手 座面 360度回転 ブラック'"
      ]
     },
     "execution_count": 62,
     "metadata": {},
     "output_type": "execute_result"
    }
   ],
   "source": [
    "error_data_t2[2000]"
   ]
  },
  {
   "cell_type": "code",
   "execution_count": null,
   "id": "a5affbff-30a8-44d9-8861-b5f6a4310997",
   "metadata": {},
   "outputs": [],
   "source": []
  },
  {
   "cell_type": "code",
   "execution_count": 47,
   "id": "d660ccb4-4587-4229-b9a2-05aa1d1379c3",
   "metadata": {},
   "outputs": [
    {
     "data": {
      "text/plain": [
       "2379"
      ]
     },
     "execution_count": 47,
     "metadata": {},
     "output_type": "execute_result"
    }
   ],
   "source": [
    "neg"
   ]
  },
  {
   "cell_type": "code",
   "execution_count": 48,
   "id": "5322bef1-a072-4f19-8c1d-c7607cd8d195",
   "metadata": {},
   "outputs": [
    {
     "data": {
      "text/plain": [
       "881489"
      ]
     },
     "execution_count": 48,
     "metadata": {},
     "output_type": "execute_result"
    }
   ],
   "source": [
    "pos"
   ]
  },
  {
   "cell_type": "code",
   "execution_count": 49,
   "id": "0c48d7b2-bd04-4894-916d-92eb3a1c04b6",
   "metadata": {},
   "outputs": [
    {
     "data": {
      "text/plain": [
       "883868"
      ]
     },
     "execution_count": 49,
     "metadata": {},
     "output_type": "execute_result"
    }
   ],
   "source": [
    "len(t1_pd_list)"
   ]
  },
  {
   "cell_type": "code",
   "execution_count": 50,
   "id": "b70155d6-c526-47c9-a55d-a59a2d012cd5",
   "metadata": {},
   "outputs": [
    {
     "data": {
      "text/plain": [
       "1815216"
      ]
     },
     "execution_count": 50,
     "metadata": {},
     "output_type": "execute_result"
    }
   ],
   "source": [
    "len(t2_pd_set)"
   ]
  },
  {
   "cell_type": "code",
   "execution_count": null,
   "id": "04463250-ded3-409a-92a4-ae6a4d2dee05",
   "metadata": {},
   "outputs": [],
   "source": [
    "error_data_t1"
   ]
  },
  {
   "cell_type": "code",
   "execution_count": null,
   "id": "d867fcf3-e773-4530-8412-d92772000959",
   "metadata": {},
   "outputs": [],
   "source": []
  },
  {
   "cell_type": "code",
   "execution_count": null,
   "id": "b16d97ab-406e-433f-9c39-782160fc843d",
   "metadata": {},
   "outputs": [],
   "source": []
  },
  {
   "cell_type": "code",
   "execution_count": 5,
   "id": "a1d708fb-9e41-48e0-9a59-6212dbec0009",
   "metadata": {},
   "outputs": [],
   "source": [
    "def build_product_idx(dat, locale_name='product_locale'):\n",
    "    pd_idx_list = []\n",
    "    for records in tqdm(dat.to_dict('records')):\n",
    "        product_id = records['product_id']\n",
    "        product_locale = records[locale_name]\n",
    "        pd_idx = product_id + '@' + product_locale\n",
    "        pd_idx_list.append(pd_idx)\n",
    "    dat['product_new_id'] = pd_idx_list\n",
    "    return dat"
   ]
  },
  {
   "cell_type": "code",
   "execution_count": 6,
   "id": "5214a7ab-a200-421c-8575-69c9e6b6982d",
   "metadata": {},
   "outputs": [],
   "source": [
    "def build_query2data(target_dat, target_query_locale):\n",
    "    esci_label2gain = {\n",
    "                       'exact' : 1,\n",
    "                       'substitute' : 0.1,\n",
    "                       'complement' : 0.01,\n",
    "                       'irrelevant' : 0.0,\n",
    "                      }\n",
    "    query2data = dict()\n",
    "    for records in tqdm(target_dat.to_dict('records')):\n",
    "        query = records['query']\n",
    "        product_new_id = records['product_new_id']\n",
    "        query_locale = records['query_locale']\n",
    "        product_id = records['product_id']\n",
    "        if 'query_id' in records:\n",
    "            query_id = records['query_id']\n",
    "        else:\n",
    "            query_id = None\n",
    "        product_locale = product_new_id.split('@')[1]\n",
    "        if query_locale in target_query_locale and query not in query2data:\n",
    "            query2data[query] = {\n",
    "                                 'pos' : [],\n",
    "                                 'neg' : [],\n",
    "                                 'all' : [],\n",
    "                                 'locale' : query_locale,\n",
    "                                 'query_id' : query_id,\n",
    "                                 'data' : []\n",
    "                                 }\n",
    "        if 'esci_label' in records:\n",
    "            if records['esci_label'] == 'exact':\n",
    "                query2data[query]['pos'].append(product_new_id)\n",
    "            else:\n",
    "                query2data[query]['neg'].append(product_new_id)\n",
    "            gain = esci_label2gain[records['esci_label'] ]\n",
    "        else:\n",
    "            gain = None\n",
    "        query2data[query]['all'].append(product_new_id)\n",
    "        query2data[query]['data'].append({\n",
    "                                          'gain' : gain, \n",
    "                                           'product_new_id' : product_new_id, \n",
    "                                           'product_id':product_id\n",
    "                                         })\n",
    "    return query2data"
   ]
  },
  {
   "cell_type": "code",
   "execution_count": 7,
   "id": "02b34cbc-b449-490b-8241-8ecef0c23bae",
   "metadata": {},
   "outputs": [],
   "source": [
    "def build_pd2data(given_product_dat=None):\n",
    "    # build pd2data\n",
    "    pd2data = dict()\n",
    "    for records in tqdm(given_product_dat.to_dict('records')):\n",
    "        product_id = records['product_id']\n",
    "        product_new_id = records['product_new_id']\n",
    "        product_locale = records['product_locale']\n",
    "        product_title = records['product_title']\n",
    "        product_bullet_point = records['product_bullet_point']\n",
    "        product_brand = records['product_brand']\n",
    "        product_color_name = records['product_color_name']\n",
    "        product_description = records['product_description']\n",
    "        origin_super_sents = product_bullet_point.split('\\n')\n",
    "        super_sents = product_brand + '. ' + product_color_name + '. ' + product_bullet_point + '. ' + product_description + '.'\n",
    "        if product_new_id not in pd2data:\n",
    "            pd2data[product_new_id] = {\n",
    "                                    'product_title' : product_title,\n",
    "                                    'product_bullet_point' : product_bullet_point,\n",
    "                                    'super_sents' : super_sents,\n",
    "                                    'origin_super_sents' : origin_super_sents,\n",
    "                                    'product_brand' : product_brand,\n",
    "                                    'product_color_name' : product_color_name,\n",
    "                                    'product_id' : product_id\n",
    "                                    }\n",
    "    return pd2data"
   ]
  },
  {
   "cell_type": "code",
   "execution_count": null,
   "id": "8443814e-385a-4000-ad13-711180959347",
   "metadata": {},
   "outputs": [],
   "source": []
  },
  {
   "cell_type": "code",
   "execution_count": null,
   "id": "73ecc425-fb36-4244-9f2c-3afe20d37783",
   "metadata": {},
   "outputs": [],
   "source": []
  },
  {
   "cell_type": "code",
   "execution_count": null,
   "id": "71a0d22e-1dc2-4418-83fc-96c36fb2680b",
   "metadata": {},
   "outputs": [],
   "source": []
  }
 ],
 "metadata": {
  "kernelspec": {
   "display_name": "Python 3",
   "language": "python",
   "name": "python3"
  },
  "language_info": {
   "codemirror_mode": {
    "name": "ipython",
    "version": 3
   },
   "file_extension": ".py",
   "mimetype": "text/x-python",
   "name": "python",
   "nbconvert_exporter": "python",
   "pygments_lexer": "ipython3",
   "version": "3.6.9"
  }
 },
 "nbformat": 4,
 "nbformat_minor": 5
}
