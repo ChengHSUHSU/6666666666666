{
 "cells": [
  {
   "cell_type": "code",
   "execution_count": null,
   "id": "62217522-be22-4707-9037-a17340323a20",
   "metadata": {},
   "outputs": [],
   "source": []
  },
  {
   "cell_type": "code",
   "execution_count": null,
   "id": "1e520b32-bbb5-4830-96e1-dae87f362cfa",
   "metadata": {},
   "outputs": [],
   "source": []
  },
  {
   "cell_type": "code",
   "execution_count": null,
   "id": "1d75b477-73a8-4751-b4b4-0f60e58e83ca",
   "metadata": {},
   "outputs": [],
   "source": []
  },
  {
   "cell_type": "code",
   "execution_count": null,
   "id": "0a2fcb80-7a5d-4398-96c8-9e0e2f2a2784",
   "metadata": {},
   "outputs": [],
   "source": [
    "'''\n",
    "1. data size ex. MB, GB\n",
    "2. query_num, pd_num | train, test\n",
    "3. overlap_query_num\n",
    "4. In overlap_query, overlap_product_rate\n",
    "'''"
   ]
  },
  {
   "cell_type": "code",
   "execution_count": null,
   "id": "57e2e47e-03ba-4c67-bb92-fbbd2530c564",
   "metadata": {},
   "outputs": [],
   "source": []
  },
  {
   "cell_type": "code",
   "execution_count": null,
   "id": "185e0962-2de4-4001-b78a-c2068d73ae69",
   "metadata": {},
   "outputs": [],
   "source": []
  },
  {
   "cell_type": "code",
   "execution_count": 3,
   "id": "c04644b5-d9cf-4193-8b8c-0bc3985b1321",
   "metadata": {},
   "outputs": [
    {
     "name": "stdout",
     "output_type": "stream",
     "text": [
      "41M\ttask_1_query-product_ranking/train-v0.2.csv\n"
     ]
    }
   ],
   "source": [
    "# task1 - train_data\n",
    "!du -h task_1_query-product_ranking/train-v0.2.csv"
   ]
  },
  {
   "cell_type": "code",
   "execution_count": 4,
   "id": "0a7fc44b-48e9-4312-8dcd-6ddf499143d3",
   "metadata": {},
   "outputs": [
    {
     "name": "stdout",
     "output_type": "stream",
     "text": [
      "1010M\ttask_1_query-product_ranking/product_catalogue-v0.2.csv\n"
     ]
    }
   ],
   "source": [
    "# task1 - product_data\n",
    "!du -h task_1_query-product_ranking/product_catalogue-v0.2.csv"
   ]
  },
  {
   "cell_type": "code",
   "execution_count": 1,
   "id": "9ea9961f-e22e-4267-82cd-4def6f08fb15",
   "metadata": {},
   "outputs": [
    {
     "name": "stdout",
     "output_type": "stream",
     "text": [
      "92M\ttask_2_multiclass_product_classification/train-v0.2.csv\n"
     ]
    }
   ],
   "source": [
    "# task2 - train_data\n",
    "!du -h task_2_multiclass_product_classification/train-v0.2.csv"
   ]
  },
  {
   "cell_type": "code",
   "execution_count": 2,
   "id": "119f8803-2d10-448f-b6b1-8958ad818a49",
   "metadata": {},
   "outputs": [
    {
     "name": "stdout",
     "output_type": "stream",
     "text": [
      "2.0G\ttask_2_multiclass_product_classification/product_catalogue-v0.2.csv\n"
     ]
    }
   ],
   "source": [
    "# task2 - product_data\n",
    "!du -h task_2_multiclass_product_classification/product_catalogue-v0.2.csv"
   ]
  },
  {
   "cell_type": "code",
   "execution_count": null,
   "id": "7f245fbf-d0f3-4698-ae23-7cc515c261bb",
   "metadata": {},
   "outputs": [],
   "source": []
  },
  {
   "cell_type": "code",
   "execution_count": 13,
   "id": "6dc846e7-3b00-4050-b013-68739fe6bc11",
   "metadata": {},
   "outputs": [],
   "source": [
    "import pandas as pd\n",
    "from tqdm import tqdm"
   ]
  },
  {
   "cell_type": "code",
   "execution_count": 6,
   "id": "f9581e65-7dde-49de-aa95-cca763c5e6a1",
   "metadata": {},
   "outputs": [],
   "source": [
    "# task1 path\n",
    "task1_path = 'task_1_query-product_ranking/'\n",
    "task1_train_path = task1_path + 'train-v0.2.csv'\n",
    "task1_test_path = task1_path + 'test_public-v0.2.csv'\n",
    "task1_product_path = task1_path + 'product_catalogue-v0.2.csv'\n",
    "# task2 path\n",
    "task2_path = 'task_2_multiclass_product_classification/'\n",
    "task2_train_path = task2_path + 'train-v0.2.csv'\n",
    "task2_product_path = task2_path + 'product_catalogue-v0.2.csv'"
   ]
  },
  {
   "cell_type": "code",
   "execution_count": 7,
   "id": "d1e78601-1291-46e6-9fae-63f4c49a304b",
   "metadata": {},
   "outputs": [],
   "source": [
    "# task1\n",
    "task1_train_dat = pd.read_csv(task1_train_path)\n",
    "task1_test_dat = pd.read_csv(task1_test_path)\n",
    "task1_product_dat = pd.read_csv(task1_product_path)\n",
    "# task2\n",
    "task2_train_dat = pd.read_csv(task2_train_path)\n",
    "task2_product_dat = pd.read_csv(task2_product_path)"
   ]
  },
  {
   "cell_type": "code",
   "execution_count": 22,
   "id": "f36d5729-335f-49d4-b0c7-ad3f2b7b3493",
   "metadata": {},
   "outputs": [],
   "source": [
    "# imputattion\n",
    "task1_train_dat = task1_train_dat.fillna('Empty')\n",
    "task1_test_dat = task1_test_dat.fillna('Empty')\n",
    "task1_product_dat = task1_product_dat.fillna('Empty')\n",
    "task2_train_dat = task2_train_dat.fillna('Empty')\n",
    "task2_product_dat = task2_product_dat.fillna('Empty')"
   ]
  },
  {
   "cell_type": "code",
   "execution_count": 23,
   "id": "91774b6e-eb57-4e61-b4e1-05025b0cecb0",
   "metadata": {},
   "outputs": [
    {
     "name": "stderr",
     "output_type": "stream",
     "text": [
      "100%|██████████| 883868/883868 [00:00<00:00, 2924359.93it/s]\n",
      "100%|██████████| 781738/781738 [00:00<00:00, 2678625.73it/s]\n",
      "100%|██████████| 167799/167799 [00:00<00:00, 2894414.40it/s]\n",
      "100%|██████████| 1815216/1815216 [00:00<00:00, 2969310.60it/s]\n",
      "100%|██████████| 1834744/1834744 [00:00<00:00, 2761225.28it/s]\n"
     ]
    }
   ],
   "source": [
    "# ATTACH LACLE TAG\n",
    "task1_product_dat = build_product_idx(task1_product_dat, locale_name='product_locale')\n",
    "task1_train_dat = build_product_idx(task1_train_dat, locale_name='query_locale')\n",
    "task1_test_dat = build_product_idx(task1_test_dat, locale_name='query_locale')\n",
    "task2_product_dat = build_product_idx(task2_product_dat, locale_name='product_locale')\n",
    "task2_train_dat = build_product_idx(task2_train_dat, locale_name='query_locale')"
   ]
  },
  {
   "cell_type": "code",
   "execution_count": null,
   "id": "1de7dd5d-c300-4afd-a0c6-e50673909260",
   "metadata": {},
   "outputs": [],
   "source": [
    "# build query2data\n",
    "task1_query2data = build_query2data(target_dat=task1_train_dat, target_query_locale=['us', 'es', 'jp'])\n",
    "task1_query2data_test = build_query2data(target_dat=task1_test_dat, target_query_locale=['us', 'es', 'jp'])\n",
    "task2_query2data = build_query2data(target_dat=task2_train_dat, target_query_locale=['us', 'es', 'jp'])"
   ]
  },
  {
   "cell_type": "code",
   "execution_count": 25,
   "id": "c47419a5-8d08-4993-89d6-67e62b048fc1",
   "metadata": {},
   "outputs": [
    {
     "name": "stderr",
     "output_type": "stream",
     "text": [
      "100%|██████████| 883868/883868 [00:06<00:00, 146059.33it/s]\n",
      "100%|██████████| 1815216/1815216 [00:12<00:00, 146156.38it/s]\n"
     ]
    }
   ],
   "source": [
    "# build product2data\n",
    "task1_pd2data = build_pd2data(given_product_dat=task1_product_dat)\n",
    "task2_pd2data = build_pd2data(given_product_dat=task2_product_dat)"
   ]
  },
  {
   "cell_type": "code",
   "execution_count": 26,
   "id": "8ba4092d-3d1c-4faa-a750-8efda58ef8bd",
   "metadata": {},
   "outputs": [
    {
     "name": "stdout",
     "output_type": "stream",
     "text": [
      "task1- query_num :  33777\n",
      "task2- query_num :  91207\n",
      "task1- product_num :  883868\n",
      "task2- product_num :  1815216\n"
     ]
    }
   ],
   "source": [
    "# query_num, proudct_num\n",
    "print('task1- query_num : ', len(task1_query2data))\n",
    "print('task2- query_num : ', len(task2_query2data))\n",
    "print('task1- product_num : ', len(task1_pd2data))\n",
    "print('task2- product_num : ', len(task2_pd2data))"
   ]
  },
  {
   "cell_type": "code",
   "execution_count": null,
   "id": "52e50206-1a7d-407c-b10f-d8d836b81759",
   "metadata": {},
   "outputs": [],
   "source": [
    "# overlap_query_num (train, test)\n",
    "overlap_train_query_set, overlap_test_query_set = set(), set()\n",
    "for query in list(task1_query2data.keys()):\n",
    "    if query in task2_query2data:\n",
    "        overlap_train_query_set.add(query)\n",
    "for query in list(task1_query2data_test.keys()):\n",
    "    if query in task2_query2data:\n",
    "        overlap_test_query_set.add(query)\n",
    "non_overlap_query_task2 = set(task2_query2data.keys()) - overlap_train_query_set- overlap_test_query_set"
   ]
  },
  {
   "cell_type": "code",
   "execution_count": null,
   "id": "3f276de7-e2af-4945-8054-71c37179f2ea",
   "metadata": {},
   "outputs": [],
   "source": [
    "print('overlap_train_query num : ', len(overlap_train_query_set))\n",
    "print('overlap_train_query num : ', len(overlap_train_query_set))\n",
    "print('overlap_train_query num : ', len(overlap_train_query_set))"
   ]
  },
  {
   "cell_type": "code",
   "execution_count": null,
   "id": "742b208f-700b-4da1-a27d-379707b7ad0a",
   "metadata": {},
   "outputs": [],
   "source": []
  },
  {
   "cell_type": "code",
   "execution_count": null,
   "id": "20c8edbb-3ea0-4f21-ba06-b83802ed15ac",
   "metadata": {},
   "outputs": [],
   "source": []
  },
  {
   "cell_type": "code",
   "execution_count": null,
   "id": "99045b7e-dbe2-48ba-b94d-abdbc2727d50",
   "metadata": {},
   "outputs": [],
   "source": []
  },
  {
   "cell_type": "code",
   "execution_count": null,
   "id": "cdb3711a-31c9-4898-93f1-e6b2968837de",
   "metadata": {},
   "outputs": [],
   "source": []
  },
  {
   "cell_type": "code",
   "execution_count": null,
   "id": "798912f1-7602-46b3-9dc7-7447d945c86b",
   "metadata": {},
   "outputs": [],
   "source": []
  },
  {
   "cell_type": "code",
   "execution_count": null,
   "id": "90152e6c-cd67-413b-afed-1245e369c6e4",
   "metadata": {},
   "outputs": [],
   "source": []
  },
  {
   "cell_type": "code",
   "execution_count": null,
   "id": "931f8867-a972-4163-9e29-2ad5abce16cb",
   "metadata": {},
   "outputs": [],
   "source": []
  },
  {
   "cell_type": "code",
   "execution_count": null,
   "id": "3c3f7e46-b198-44d8-942e-971422c85627",
   "metadata": {},
   "outputs": [],
   "source": []
  },
  {
   "cell_type": "code",
   "execution_count": null,
   "id": "5785734a-5b6e-4de9-b54f-43e5d286241e",
   "metadata": {},
   "outputs": [],
   "source": []
  },
  {
   "cell_type": "code",
   "execution_count": null,
   "id": "d867fcf3-e773-4530-8412-d92772000959",
   "metadata": {},
   "outputs": [],
   "source": []
  },
  {
   "cell_type": "code",
   "execution_count": null,
   "id": "b16d97ab-406e-433f-9c39-782160fc843d",
   "metadata": {},
   "outputs": [],
   "source": []
  },
  {
   "cell_type": "code",
   "execution_count": 15,
   "id": "a1d708fb-9e41-48e0-9a59-6212dbec0009",
   "metadata": {},
   "outputs": [],
   "source": [
    "def build_product_idx(dat, locale_name='product_locale'):\n",
    "    pd_idx_list = []\n",
    "    for records in tqdm(dat.to_dict('records')):\n",
    "        product_id = records['product_id']\n",
    "        product_locale = records[locale_name]\n",
    "        pd_idx = product_id + '@' + product_locale\n",
    "        pd_idx_list.append(pd_idx)\n",
    "    dat['product_new_id'] = pd_idx_list\n",
    "    return dat"
   ]
  },
  {
   "cell_type": "code",
   "execution_count": 19,
   "id": "5214a7ab-a200-421c-8575-69c9e6b6982d",
   "metadata": {},
   "outputs": [],
   "source": [
    "def build_query2data(target_dat, target_query_locale):\n",
    "    esci_label2gain = {\n",
    "                       'exact' : 1,\n",
    "                       'substitute' : 0.1,\n",
    "                       'complement' : 0.01,\n",
    "                       'irrelevant' : 0.0,\n",
    "                      }\n",
    "    query2data = dict()\n",
    "    for records in tqdm(target_dat.to_dict('records')):\n",
    "        query = records['query']\n",
    "        product_new_id = records['product_new_id']\n",
    "        query_locale = records['query_locale']\n",
    "        product_id = records['product_id']\n",
    "        if 'query_id' in records:\n",
    "            query_id = records['query_id']\n",
    "        else:\n",
    "            query_id = None\n",
    "        product_locale = product_new_id.split('@')[1]\n",
    "        if query_locale in target_query_locale and query not in query2data:\n",
    "            query2data[query] = {\n",
    "                                 'pos' : [],\n",
    "                                 'neg' : [],\n",
    "                                 'all' : [],\n",
    "                                 'locale' : query_locale,\n",
    "                                 'query_id' : query_id,\n",
    "                                 'data' : []\n",
    "                                 }\n",
    "        if 'esci_label' in records:\n",
    "            if records['esci_label'] == 'exact':\n",
    "                query2data[query]['pos'].append(product_new_id)\n",
    "            else:\n",
    "                query2data[query]['neg'].append(product_new_id)\n",
    "            gain = esci_label2gain[records['esci_label'] ]\n",
    "        else:\n",
    "            gain = None\n",
    "        query2data[query]['all'].append(product_new_id)\n",
    "        query2data[query]['data'].append({\n",
    "                                          'gain' : gain, \n",
    "                                           'product_new_id' : product_new_id, \n",
    "                                           'product_id':product_id\n",
    "                                         })\n",
    "    return query2data"
   ]
  },
  {
   "cell_type": "code",
   "execution_count": 11,
   "id": "02b34cbc-b449-490b-8241-8ecef0c23bae",
   "metadata": {},
   "outputs": [],
   "source": [
    "def build_pd2data(given_product_dat=None):\n",
    "    # build pd2data\n",
    "    pd2data = dict()\n",
    "    for records in tqdm(given_product_dat.to_dict('records')):\n",
    "        product_id = records['product_id']\n",
    "        product_new_id = records['product_new_id']\n",
    "        product_locale = records['product_locale']\n",
    "        product_title = records['product_title']\n",
    "        product_bullet_point = records['product_bullet_point']\n",
    "        product_brand = records['product_brand']\n",
    "        product_color_name = records['product_color_name']\n",
    "        product_description = records['product_description']\n",
    "        origin_super_sents = product_bullet_point.split('\\n')\n",
    "        super_sents = product_brand + '. ' + product_color_name + '. ' + product_bullet_point + '. ' + product_description + '.'\n",
    "        if product_new_id not in pd2data:\n",
    "            pd2data[product_new_id] = {\n",
    "                                    'product_title' : product_title,\n",
    "                                    'product_bullet_point' : product_bullet_point,\n",
    "                                    'super_sents' : super_sents,\n",
    "                                    'origin_super_sents' : origin_super_sents,\n",
    "                                    'product_brand' : product_brand,\n",
    "                                    'product_color_name' : product_color_name,\n",
    "                                    'product_id' : product_id\n",
    "                                    }\n",
    "    return pd2data"
   ]
  },
  {
   "cell_type": "code",
   "execution_count": null,
   "id": "8443814e-385a-4000-ad13-711180959347",
   "metadata": {},
   "outputs": [],
   "source": []
  },
  {
   "cell_type": "code",
   "execution_count": null,
   "id": "73ecc425-fb36-4244-9f2c-3afe20d37783",
   "metadata": {},
   "outputs": [],
   "source": []
  },
  {
   "cell_type": "code",
   "execution_count": null,
   "id": "71a0d22e-1dc2-4418-83fc-96c36fb2680b",
   "metadata": {},
   "outputs": [],
   "source": []
  }
 ],
 "metadata": {
  "kernelspec": {
   "display_name": "Python 3",
   "language": "python",
   "name": "python3"
  },
  "language_info": {
   "codemirror_mode": {
    "name": "ipython",
    "version": 3
   },
   "file_extension": ".py",
   "mimetype": "text/x-python",
   "name": "python",
   "nbconvert_exporter": "python",
   "pygments_lexer": "ipython3",
   "version": "3.6.9"
  }
 },
 "nbformat": 4,
 "nbformat_minor": 5
}
